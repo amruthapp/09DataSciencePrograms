{
 "cells": [
  {
   "cell_type": "markdown",
   "id": "6bbcb5c7",
   "metadata": {},
   "source": [
    "# K-MEANS CLUSTERING ALGORITHM"
   ]
  },
  {
   "cell_type": "code",
   "execution_count": 2,
   "id": "a6eb090e",
   "metadata": {},
   "outputs": [],
   "source": [
    "from copy import deepcopy\n",
    "import numpy as np\n",
    "import pandas as pd\n",
    "from matplotlib import pyplot as plt"
   ]
  },
  {
   "cell_type": "code",
   "execution_count": 3,
   "id": "ee855f38",
   "metadata": {},
   "outputs": [],
   "source": [
    "df = pd.read_csv(\"iris.csv\")      #load the dataset\n",
    "df.drop('Id',axis=1,inplace=True) #Unrequired column is removed"
   ]
  },
  {
   "cell_type": "code",
   "execution_count": 4,
   "id": "40053568",
   "metadata": {},
   "outputs": [
    {
     "data": {
      "text/html": [
       "<div>\n",
       "<style scoped>\n",
       "    .dataframe tbody tr th:only-of-type {\n",
       "        vertical-align: middle;\n",
       "    }\n",
       "\n",
       "    .dataframe tbody tr th {\n",
       "        vertical-align: top;\n",
       "    }\n",
       "\n",
       "    .dataframe thead th {\n",
       "        text-align: right;\n",
       "    }\n",
       "</style>\n",
       "<table border=\"1\" class=\"dataframe\">\n",
       "  <thead>\n",
       "    <tr style=\"text-align: right;\">\n",
       "      <th></th>\n",
       "      <th>SepalLengthCm</th>\n",
       "      <th>SepalWidthCm</th>\n",
       "      <th>PetalLengthCm</th>\n",
       "      <th>PetalWidthCm</th>\n",
       "      <th>Species</th>\n",
       "    </tr>\n",
       "  </thead>\n",
       "  <tbody>\n",
       "    <tr>\n",
       "      <th>0</th>\n",
       "      <td>5.1</td>\n",
       "      <td>3.5</td>\n",
       "      <td>1.4</td>\n",
       "      <td>0.2</td>\n",
       "      <td>Iris-setosa</td>\n",
       "    </tr>\n",
       "    <tr>\n",
       "      <th>1</th>\n",
       "      <td>4.9</td>\n",
       "      <td>3.0</td>\n",
       "      <td>1.4</td>\n",
       "      <td>0.2</td>\n",
       "      <td>Iris-setosa</td>\n",
       "    </tr>\n",
       "    <tr>\n",
       "      <th>2</th>\n",
       "      <td>4.7</td>\n",
       "      <td>3.2</td>\n",
       "      <td>1.3</td>\n",
       "      <td>0.2</td>\n",
       "      <td>Iris-setosa</td>\n",
       "    </tr>\n",
       "    <tr>\n",
       "      <th>3</th>\n",
       "      <td>4.6</td>\n",
       "      <td>3.1</td>\n",
       "      <td>1.5</td>\n",
       "      <td>0.2</td>\n",
       "      <td>Iris-setosa</td>\n",
       "    </tr>\n",
       "    <tr>\n",
       "      <th>4</th>\n",
       "      <td>5.0</td>\n",
       "      <td>3.6</td>\n",
       "      <td>1.4</td>\n",
       "      <td>0.2</td>\n",
       "      <td>Iris-setosa</td>\n",
       "    </tr>\n",
       "  </tbody>\n",
       "</table>\n",
       "</div>"
      ],
      "text/plain": [
       "   SepalLengthCm  SepalWidthCm  PetalLengthCm  PetalWidthCm      Species\n",
       "0            5.1           3.5            1.4           0.2  Iris-setosa\n",
       "1            4.9           3.0            1.4           0.2  Iris-setosa\n",
       "2            4.7           3.2            1.3           0.2  Iris-setosa\n",
       "3            4.6           3.1            1.5           0.2  Iris-setosa\n",
       "4            5.0           3.6            1.4           0.2  Iris-setosa"
      ]
     },
     "execution_count": 4,
     "metadata": {},
     "output_type": "execute_result"
    }
   ],
   "source": [
    "df.head()"
   ]
  },
  {
   "cell_type": "code",
   "execution_count": 9,
   "id": "f624f052",
   "metadata": {},
   "outputs": [],
   "source": [
    "#Change categorical data to number 0-2\n",
    "\n",
    "df[\"Species\"] = pd.Categorical(df[\"Species\"])\n",
    "df[\"Species\"] = df[\"Species\"].cat.codes\n",
    "\n",
    "#change dataframe to numpy matrix\n",
    "\n",
    "data = df.values[:,0:4]\n",
    "category = df.values[:,4] "
   ]
  },
  {
   "cell_type": "code",
   "execution_count": 13,
   "id": "26026f0d",
   "metadata": {},
   "outputs": [
    {
     "data": {
      "image/png": "[encoded data removed]",
      "text/plain": [
       "<Figure size 432x288 with 1 Axes>"
      ]
     },
     "metadata": {
      "needs_background": "light"
     },
     "output_type": "display_data"
    }
   ],
   "source": [
    "#Number of clusters\n",
    "k=5\n",
    "\n",
    "#Number of training data\n",
    "n = data.shape[0]\n",
    "\n",
    "#Number of features in the data\n",
    "c = data.shape[1]\n",
    "\n",
    "#Generate random centers, here we use sigma mean to ensure it represent the whole data\n",
    "mean = np.mean(data, axis = 0)\n",
    "std = np.std(data, axis = 0)\n",
    "centers = np.random.randn(k,c)*std + mean\n",
    "\n",
    "#Plot the data and the centers generated as random\n",
    "colors = ['orange', 'blue', 'green']\n",
    "for i in range(n):\n",
    "    plt.scatter(data[i,0], data[i,1], s=7, color = colors[int(category[i])])\n",
    "    plt.scatter(centers[:,0], centers[:,1], marker='*', c='g', s=150)"
   ]
  },
  {
   "cell_type": "code",
   "execution_count": null,
   "id": "85cb3b17",
   "metadata": {},
   "outputs": [],
   "source": []
  }
 ],
 "metadata": {
  "kernelspec": {
   "display_name": "Python 3 (ipykernel)",
   "language": "python",
   "name": "python3"
  },
  "language_info": {
   "codemirror_mode": {
    "name": "ipython",
    "version": 3
   },
   "file_extension": ".py",
   "mimetype": "text/x-python",
   "name": "python",
   "nbconvert_exporter": "python",
   "pygments_lexer": "ipython3",
   "version": "3.10.1"
  }
 },
 "nbformat": 4,
 "nbformat_minor": 5
}
